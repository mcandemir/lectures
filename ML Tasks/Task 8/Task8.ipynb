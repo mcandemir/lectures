{
 "cells": [
  {
   "cell_type": "code",
   "execution_count": 4,
   "id": "25de2b86-137b-4980-8f3c-867517c3b482",
   "metadata": {},
   "outputs": [],
   "source": [
    "import pandas as pd\n",
    "import numpy as np\n",
    "\n",
    "from sklearn.model_selection import KFold\n",
    "from sklearn.svm import SVC\n",
    "from sklearn.metrics import accuracy_score\n",
    "from sklearn.datasets import load_breast_cancer, load_digits, load_iris"
   ]
  },
  {
   "cell_type": "markdown",
   "id": "2451066a-48b9-4e04-97bb-853a42fa3fe8",
   "metadata": {},
   "source": [
    "## Iris"
   ]
  },
  {
   "cell_type": "code",
   "execution_count": 2,
   "id": "9d697e36-ca22-40dc-9a73-0cab71c17771",
   "metadata": {},
   "outputs": [],
   "source": [
    "iris = load_iris()\n",
    "X, y = iris.data, iris.target"
   ]
  },
  {
   "cell_type": "code",
   "execution_count": 3,
   "id": "e432e56c-9326-40bb-b489-723999a07f78",
   "metadata": {},
   "outputs": [],
   "source": [
    "kfold = KFold(n_splits=2, shuffle=True)\n",
    "for train_idx, test_idx in kfold.split(X):\n",
    "    X_train, X_test = X[train_idx], X[test_idx]\n",
    "    y_train, y_test = y[train_idx], y[test_idx]"
   ]
  },
  {
   "cell_type": "code",
   "execution_count": 9,
   "id": "468b56c5-9c40-4018-93a8-c748a3f17d72",
   "metadata": {},
   "outputs": [
    {
     "name": "stdout",
     "output_type": "stream",
     "text": [
      "score (default): 0.96\n",
      "score (from metrics): 0.96\n"
     ]
    }
   ],
   "source": [
    "svc = SVC()\n",
    "svc.fit(X_train, y_train)\n",
    "print(\"score (default):\", svc.score(X_test, y_test))\n",
    "print(\"score (from metrics):\", accuracy_score(y_test, svc.predict(X_test)))"
   ]
  },
  {
   "cell_type": "markdown",
   "id": "c20c4bd6-a26f-4785-85ee-64d9dfee551b",
   "metadata": {},
   "source": [
    "## Breast Cancer"
   ]
  },
  {
   "cell_type": "code",
   "execution_count": 10,
   "id": "ceb17896-7fea-46e4-9ede-27cba0080a12",
   "metadata": {},
   "outputs": [],
   "source": [
    "bcancer = load_breast_cancer()\n",
    "X, y = bcancer.data, bcancer.target"
   ]
  },
  {
   "cell_type": "code",
   "execution_count": 11,
   "id": "fcb340ec-39ce-4a1c-a4b7-3b82192d6bc8",
   "metadata": {},
   "outputs": [],
   "source": [
    "kfold = KFold(n_splits=2, shuffle=True)\n",
    "for train_idx, test_idx in kfold.split(X):\n",
    "    X_train, X_test = X[train_idx], X[test_idx]\n",
    "    y_train, y_test = y[train_idx], y[test_idx]"
   ]
  },
  {
   "cell_type": "code",
   "execution_count": 12,
   "id": "9550a865-9676-4ffe-9ab7-a97d0ca9d0c9",
   "metadata": {},
   "outputs": [
    {
     "name": "stdout",
     "output_type": "stream",
     "text": [
      "score (default): 0.9190140845070423\n",
      "score (from metrics): 0.9190140845070423\n"
     ]
    }
   ],
   "source": [
    "svc = SVC()\n",
    "svc.fit(X_train, y_train)\n",
    "print(\"score (default):\", svc.score(X_test, y_test))\n",
    "print(\"score (from metrics):\", accuracy_score(y_test, svc.predict(X_test)))"
   ]
  },
  {
   "cell_type": "markdown",
   "id": "16b47750-eaee-45b1-b081-c18c1bb9319b",
   "metadata": {},
   "source": [
    "## Digit"
   ]
  },
  {
   "cell_type": "code",
   "execution_count": 13,
   "id": "9abc552f-9e75-4143-9166-e5f1e6c95dc9",
   "metadata": {},
   "outputs": [],
   "source": [
    "digit = load_digits()\n",
    "X, y = digit.data, digit.target"
   ]
  },
  {
   "cell_type": "code",
   "execution_count": 14,
   "id": "ea8cb00d-9288-41ea-a736-e73de662505d",
   "metadata": {},
   "outputs": [],
   "source": [
    "kfold = KFold(n_splits=2, shuffle=True)\n",
    "for train_idx, test_idx in kfold.split(X):\n",
    "    X_train, X_test = X[train_idx], X[test_idx]\n",
    "    y_train, y_test = y[train_idx], y[test_idx]"
   ]
  },
  {
   "cell_type": "code",
   "execution_count": 15,
   "id": "ec2dc95c-f4fe-4382-9d5a-86fd019438f4",
   "metadata": {},
   "outputs": [
    {
     "name": "stdout",
     "output_type": "stream",
     "text": [
      "score (default): 0.9866369710467706\n",
      "score (from metrics): 0.9866369710467706\n"
     ]
    }
   ],
   "source": [
    "svc = SVC()\n",
    "svc.fit(X_train, y_train)\n",
    "print(\"score (default):\", svc.score(X_test, y_test))\n",
    "print(\"score (from metrics):\", accuracy_score(y_test, svc.predict(X_test)))"
   ]
  }
 ],
 "metadata": {
  "kernelspec": {
   "display_name": "Python 3 (ipykernel)",
   "language": "python",
   "name": "python3"
  },
  "language_info": {
   "codemirror_mode": {
    "name": "ipython",
    "version": 3
   },
   "file_extension": ".py",
   "mimetype": "text/x-python",
   "name": "python",
   "nbconvert_exporter": "python",
   "pygments_lexer": "ipython3",
   "version": "3.8.12"
  }
 },
 "nbformat": 4,
 "nbformat_minor": 5
}
