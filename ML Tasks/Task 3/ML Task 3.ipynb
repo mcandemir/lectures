{
 "cells": [
  {
   "cell_type": "code",
   "execution_count": 1,
   "id": "60723a1d-71b4-4506-ad24-46f3eb8d60ce",
   "metadata": {},
   "outputs": [],
   "source": [
    "import pandas as pd\n",
    "import numpy as np\n",
    "\n",
    "from sklearn.model_selection import KFold\n",
    "from sklearn.preprocessing import StandardScaler\n",
    "from sklearn.datasets import load_iris\n",
    "from sklearn.metrics import accuracy_score\n",
    "from sklearn.naive_bayes import GaussianNB\n",
    "from sklearn.linear_model import LinearRegression\n",
    "\n",
    "import seaborn as sns\n",
    "import matplotlib.pyplot as plt"
   ]
  },
  {
   "cell_type": "markdown",
   "id": "84ead8c3-6a3a-4771-9f6a-1acba1d97228",
   "metadata": {},
   "source": [
    "## Data"
   ]
  },
  {
   "cell_type": "code",
   "execution_count": 2,
   "id": "bae1ad4b-6d3c-4e3a-86ae-b31be4af5ccd",
   "metadata": {},
   "outputs": [],
   "source": [
    "iris = load_iris()\n",
    "X, y = iris.data, iris.target"
   ]
  },
  {
   "cell_type": "code",
   "execution_count": 3,
   "id": "11ef2459-ca9b-4c6d-9cdf-e828dda3e616",
   "metadata": {},
   "outputs": [],
   "source": [
    "features, targets = iris.feature_names, iris.target_names"
   ]
  },
  {
   "cell_type": "markdown",
   "id": "6269bb2c-1332-4058-a3f7-a91a2537b452",
   "metadata": {},
   "source": [
    "## Split w/ KFold"
   ]
  },
  {
   "cell_type": "code",
   "execution_count": 4,
   "id": "29e2e90b-e3f3-40f2-bec9-d91f7fa630d1",
   "metadata": {},
   "outputs": [],
   "source": [
    "kfold = KFold(n_splits=2, shuffle=True)\n",
    "for train_idx, test_idx in kfold.split(X):\n",
    "    X_train, X_test = X[train_idx], X[test_idx]\n",
    "    y_train, y_test = y[train_idx], y[test_idx]"
   ]
  },
  {
   "cell_type": "markdown",
   "id": "b6e77ad1-eaf5-493f-9451-5be148bddfea",
   "metadata": {},
   "source": [
    "## Scale"
   ]
  },
  {
   "cell_type": "code",
   "execution_count": 5,
   "id": "07f472af-d8b8-44ea-881c-971be7f3e0bf",
   "metadata": {},
   "outputs": [],
   "source": [
    "scaler = StandardScaler()\n",
    "X_scaled = scaler.fit_transform(X)\n",
    "X_scaled_train = scaler.transform(X_train)\n",
    "X_scaled_test = scaler.transform(X_test)"
   ]
  },
  {
   "cell_type": "markdown",
   "id": "34f1a838-2986-4285-acc1-a97b88a76d37",
   "metadata": {},
   "source": [
    "## Model - GNB (Gaussian Naive Bayes)"
   ]
  },
  {
   "cell_type": "code",
   "execution_count": 6,
   "id": "3df7367e-5f76-4df0-9471-126b276e29e0",
   "metadata": {},
   "outputs": [
    {
     "data": {
      "text/plain": [
       "GaussianNB()"
      ]
     },
     "execution_count": 6,
     "metadata": {},
     "output_type": "execute_result"
    }
   ],
   "source": [
    "gnb = GaussianNB()\n",
    "gnb.fit(X_scaled_train, y_train)"
   ]
  },
  {
   "cell_type": "code",
   "execution_count": 7,
   "id": "9b4737c3-f978-43d2-ba0d-a61194ca093b",
   "metadata": {},
   "outputs": [
    {
     "data": {
      "text/plain": [
       "0.9333333333333333"
      ]
     },
     "execution_count": 7,
     "metadata": {},
     "output_type": "execute_result"
    }
   ],
   "source": [
    "y_pred_gnb = gnb.predict(X_scaled_test)\n",
    "accuracy_score(y_test, y_pred_gnb)"
   ]
  },
  {
   "cell_type": "code",
   "execution_count": 8,
   "id": "7c49767a-9d0b-4c42-bc62-6a4993b416af",
   "metadata": {},
   "outputs": [
    {
     "data": {
      "text/plain": [
       "0.96"
      ]
     },
     "execution_count": 8,
     "metadata": {},
     "output_type": "execute_result"
    }
   ],
   "source": [
    "y_predall_gnb = gnb.predict(X_scaled)\n",
    "accuracy_score(y, y_predall_gnb)"
   ]
  },
  {
   "cell_type": "markdown",
   "id": "299e290d-bcec-437d-9435-4f338bea2c0d",
   "metadata": {},
   "source": [
    "## Model - Linear Regression"
   ]
  },
  {
   "cell_type": "code",
   "execution_count": 9,
   "id": "a116c7d4-a96a-45f9-9b19-06a01cff84ed",
   "metadata": {},
   "outputs": [
    {
     "data": {
      "text/plain": [
       "LinearRegression()"
      ]
     },
     "execution_count": 9,
     "metadata": {},
     "output_type": "execute_result"
    }
   ],
   "source": [
    "lr = LinearRegression()\n",
    "lr.fit(X_scaled, y)"
   ]
  },
  {
   "cell_type": "code",
   "execution_count": 10,
   "id": "74cc2588-6d0a-4037-bdfb-0321cb0e1c3b",
   "metadata": {},
   "outputs": [],
   "source": [
    "y_pred_lr = lr.predict(X_scaled_test)"
   ]
  },
  {
   "cell_type": "markdown",
   "id": "bdaacbc9-8d7e-4a15-93ae-8403f0e8f578",
   "metadata": {},
   "source": [
    "## Interpret Results"
   ]
  },
  {
   "cell_type": "code",
   "execution_count": 29,
   "id": "9128dbab-3251-4c04-8518-2e3f90356773",
   "metadata": {},
   "outputs": [
    {
     "name": "stdout",
     "output_type": "stream",
     "text": [
      "Naive Bayes \t Linear Regression\n",
      "=========== \t ===========\n",
      "0 <-------------> 0.058291006630469155\n",
      "0 <-------------> 0.03833671943481065\n",
      "0 <-------------> -0.10127251234292656\n",
      "0 <-------------> -0.22665220803478903\n",
      "0 <-------------> -0.03316700426638031\n",
      "0 <-------------> -0.0321980063100753\n",
      "0 <-------------> -0.010783499402382102\n",
      "0 <-------------> 0.054149654659090274\n",
      "0 <-------------> 0.17683566011746776\n",
      "0 <-------------> -0.005590027501515049\n",
      "0 <-------------> 0.01996583137755681\n",
      "0 <-------------> -0.15536734370729244\n",
      "0 <-------------> -0.10506393569735129\n",
      "0 <-------------> -0.15017620588505065\n",
      "0 <-------------> -0.12510134486619306\n",
      "0 <-------------> -0.0070400233180343275\n",
      "0 <-------------> -0.015055920617021323\n",
      "0 <-------------> 0.21807105089893364\n",
      "0 <-------------> 0.031987343247411926\n",
      "1 <-------------> 1.2024844167401032\n",
      "1 <-------------> 1.284824129059775\n",
      "1 <-------------> 1.185438010994373\n",
      "1 <-------------> 1.312529840989275\n",
      "1 <-------------> 1.257339610582595\n",
      "1 <-------------> 1.3986609766633715\n",
      "1 <-------------> 0.9057464393955738\n",
      "1 <-------------> 0.9563166540492861\n",
      "1 <-------------> 0.9507174164444983\n",
      "1 <-------------> 1.31522353122276\n",
      "1 <-------------> 1.0587417228078766\n",
      "1 <-------------> 1.1714706133950183\n",
      "1 <-------------> 1.347284786340082\n",
      "1 <-------------> 1.0215166147545296\n",
      "2 <-------------> 1.5921461804317802\n",
      "1 <-------------> 1.1292685587358728\n",
      "1 <-------------> 1.1866691474371982\n",
      "1 <-------------> 1.263761884847662\n",
      "2 <-------------> 1.495441194625723\n",
      "1 <-------------> 1.013850646072497\n",
      "1 <-------------> 1.052044752082149\n",
      "1 <-------------> 1.5477384356352406\n",
      "1 <-------------> 1.1873713387497324\n",
      "1 <-------------> 1.1690562877794448\n",
      "1 <-------------> 1.177422113695386\n",
      "1 <-------------> 1.203946970530763\n",
      "1 <-------------> 1.1847381537604644\n",
      "1 <-------------> 1.1516497295212453\n",
      "1 <-------------> 1.1658815996857455\n",
      "2 <-------------> 2.2442263607859427\n",
      "2 <-------------> 1.7423237066032145\n",
      "2 <-------------> 1.7593221650788677\n",
      "2 <-------------> 1.8422739445020144\n",
      "2 <-------------> 1.8101624080359897\n",
      "2 <-------------> 1.9551417941493052\n",
      "2 <-------------> 1.693070084444136\n",
      "1 <-------------> 1.4839884707465165\n",
      "2 <-------------> 1.9630234005453941\n",
      "2 <-------------> 1.590288084832715\n",
      "2 <-------------> 1.6006454096696072\n",
      "2 <-------------> 1.9179166860959587\n",
      "2 <-------------> 1.5614790840440114\n",
      "2 <-------------> 1.7984829349661995\n",
      "2 <-------------> 1.83196923509245\n",
      "1 <-------------> 1.4492335253957092\n",
      "1 <-------------> 1.5330279016891515\n",
      "2 <-------------> 2.0005961031370694\n",
      "2 <-------------> 2.087835195827621\n",
      "2 <-------------> 1.7002527211873288\n",
      "2 <-------------> 1.5889714923380809\n",
      "2 <-------------> 2.055096700205356\n",
      "2 <-------------> 1.8574678103869426\n",
      "2 <-------------> 2.0475664689238346\n",
      "2 <-------------> 1.9067214325460211\n",
      "2 <-------------> 1.746326987095457\n",
      "2 <-------------> 1.668755585903404\n"
     ]
    }
   ],
   "source": [
    "print(\"Naive Bayes \\t Linear Regression\")\n",
    "print(\"=========== \\t ===========\")\n",
    "for i in range(len(y_pred_gnb)):\n",
    "    print(y_pred_gnb[i], \"<------------->\", y_pred_lr[i])"
   ]
  },
  {
   "cell_type": "code",
   "execution_count": null,
   "id": "7256c29b-904d-45a5-bc83-1667b7122e69",
   "metadata": {},
   "outputs": [],
   "source": []
  }
 ],
 "metadata": {
  "kernelspec": {
   "display_name": "Python 3 (ipykernel)",
   "language": "python",
   "name": "python3"
  },
  "language_info": {
   "codemirror_mode": {
    "name": "ipython",
    "version": 3
   },
   "file_extension": ".py",
   "mimetype": "text/x-python",
   "name": "python",
   "nbconvert_exporter": "python",
   "pygments_lexer": "ipython3",
   "version": "3.8.12"
  }
 },
 "nbformat": 4,
 "nbformat_minor": 5
}
