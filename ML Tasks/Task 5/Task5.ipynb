{
 "cells": [
  {
   "cell_type": "markdown",
   "id": "dc3699d3-2e7a-4a1c-adeb-e9050bb946e4",
   "metadata": {},
   "source": [
    "## Import"
   ]
  },
  {
   "cell_type": "code",
   "execution_count": 1,
   "id": "de756f90-6652-4d66-923a-6969a9e82765",
   "metadata": {},
   "outputs": [],
   "source": [
    "import pandas as pd\n",
    "import numpy as np\n",
    "\n",
    "# from tensorflow.keras.layers import Input, Dense\n",
    "# from tensorflow.keras.losses import categorical_crossentropy, mean_squared_error\n",
    "# from tensorflow.keras.models import Model\n",
    "# from tensorflow.keras.optimizers import Adam\n",
    "\n",
    "from sklearn.neural_network import MLPClassifier, MLPRegressor\n",
    "from sklearn.model_selection import KFold\n",
    "from sklearn.metrics import accuracy_score, mean_squared_error, \\\n",
    "                                f1_score, auc, r2_score\n",
    "from sklearn.pipeline import Pipeline\n",
    "from sklearn.datasets import load_iris\n",
    "\n",
    "import matplotlib.pyplot as plt"
   ]
  },
  {
   "cell_type": "markdown",
   "id": "99901fbd-7694-4da4-be83-33c0b75206c7",
   "metadata": {},
   "source": [
    "## Data"
   ]
  },
  {
   "cell_type": "code",
   "execution_count": 2,
   "id": "e588ecb2-2833-48e0-80b5-ef905691948b",
   "metadata": {},
   "outputs": [],
   "source": [
    "X, y = load_iris(return_X_y=True)"
   ]
  },
  {
   "cell_type": "code",
   "execution_count": 3,
   "id": "b5d25a01-6ecd-4130-9cfa-2c7c3506fb94",
   "metadata": {},
   "outputs": [],
   "source": [
    "kf = KFold(n_splits=2, shuffle=True)\n",
    "\n",
    "for train_idx, test_idx in kf.split(X):\n",
    "    X_train, y_train = X[train_idx], y[train_idx]\n",
    "    X_test, y_test = X[test_idx], y[test_idx]"
   ]
  },
  {
   "cell_type": "markdown",
   "id": "639ae0c1-c660-4644-9ae4-99d87f0086f2",
   "metadata": {},
   "source": [
    "## MLP Classifier\n",
    "https://scikit-learn.org/stable/modules/generated/sklearn.neural_network.MLPClassifier.html"
   ]
  },
  {
   "cell_type": "code",
   "execution_count": 4,
   "id": "16daee8d-1e27-476e-bcde-fb44c7d3dfdb",
   "metadata": {},
   "outputs": [],
   "source": [
    "mlpc = MLPClassifier()"
   ]
  },
  {
   "cell_type": "code",
   "execution_count": 5,
   "id": "1041f728-34c0-48f4-8b7d-a25dd59b94f7",
   "metadata": {},
   "outputs": [
    {
     "name": "stderr",
     "output_type": "stream",
     "text": [
      "/home/can/anaconda3/envs/tfgpu/lib/python3.8/site-packages/sklearn/neural_network/_multilayer_perceptron.py:692: ConvergenceWarning: Stochastic Optimizer: Maximum iterations (200) reached and the optimization hasn't converged yet.\n",
      "  warnings.warn(\n"
     ]
    },
    {
     "data": {
      "text/plain": [
       "MLPClassifier()"
      ]
     },
     "execution_count": 5,
     "metadata": {},
     "output_type": "execute_result"
    }
   ],
   "source": [
    "mlpc.fit(X_train, y_train)"
   ]
  },
  {
   "cell_type": "code",
   "execution_count": 6,
   "id": "8fb8284c-0e8b-41fd-95f2-72b1da1ce3c4",
   "metadata": {},
   "outputs": [
    {
     "data": {
      "text/plain": [
       "0.96"
      ]
     },
     "execution_count": 6,
     "metadata": {},
     "output_type": "execute_result"
    }
   ],
   "source": [
    "# return mean acc\n",
    "mlpc.score(X_test, y_test)"
   ]
  },
  {
   "cell_type": "code",
   "execution_count": 7,
   "id": "e267bfd8-dfe7-4e99-bcdd-407add817135",
   "metadata": {},
   "outputs": [
    {
     "data": {
      "text/plain": [
       "[<matplotlib.lines.Line2D at 0x7faf4132a2e0>]"
      ]
     },
     "execution_count": 7,
     "metadata": {},
     "output_type": "execute_result"
    },
    {
     "data": {
      "image/png": "[encoded data removed]",
      "text/plain": [
       "<Figure size 432x288 with 1 Axes>"
      ]
     },
     "metadata": {
      "needs_background": "light"
     },
     "output_type": "display_data"
    }
   ],
   "source": [
    "plt.plot(mlpc.loss_curve_)"
   ]
  },
  {
   "cell_type": "markdown",
   "id": "8db4e5e0-3b2b-48e0-a7bd-295db10872df",
   "metadata": {},
   "source": [
    "## MLP Regressor\n",
    "https://scikit-learn.org/stable/modules/generated/sklearn.neural_network.MLPRegressor.html"
   ]
  },
  {
   "cell_type": "code",
   "execution_count": 8,
   "id": "2db3f56d-f2ea-428b-868c-dfab6840f3bc",
   "metadata": {},
   "outputs": [],
   "source": [
    "mlpr = MLPRegressor()"
   ]
  },
  {
   "cell_type": "markdown",
   "id": "ca7206f2-36a1-46f5-92df-34e20f40f495",
   "metadata": {},
   "source": [
    "mlpr.fit(X_train, y_train)"
   ]
  },
  {
   "cell_type": "code",
   "execution_count": 9,
   "id": "8698b806-9426-4285-85e4-1487843efa72",
   "metadata": {},
   "outputs": [
    {
     "data": {
      "text/plain": [
       "MLPRegressor()"
      ]
     },
     "execution_count": 9,
     "metadata": {},
     "output_type": "execute_result"
    }
   ],
   "source": [
    "mlpr.fit(X_train, y_train)"
   ]
  },
  {
   "cell_type": "code",
   "execution_count": 10,
   "id": "9f1a9b13-f1a9-45cf-8c41-7a3b9a8b808c",
   "metadata": {},
   "outputs": [
    {
     "data": {
      "text/plain": [
       "0.9079134466078584"
      ]
     },
     "execution_count": 10,
     "metadata": {},
     "output_type": "execute_result"
    }
   ],
   "source": [
    "# return R^2 error\n",
    "mlpr.score(X_test, y_test)"
   ]
  },
  {
   "cell_type": "code",
   "execution_count": 11,
   "id": "6c7c6b7f-dfa5-4241-b9e1-8adb8e579a83",
   "metadata": {},
   "outputs": [
    {
     "data": {
      "text/plain": [
       "[<matplotlib.lines.Line2D at 0x7faf4122a280>]"
      ]
     },
     "execution_count": 11,
     "metadata": {},
     "output_type": "execute_result"
    },
    {
     "data": {
      "image/png": "[encoded data removed]",
      "text/plain": [
       "<Figure size 432x288 with 1 Axes>"
      ]
     },
     "metadata": {
      "needs_background": "light"
     },
     "output_type": "display_data"
    }
   ],
   "source": [
    "plt.plot(mlpr.loss_curve_)"
   ]
  },
  {
   "cell_type": "code",
   "execution_count": 12,
   "id": "bd7f4d1a-1be7-4819-9698-ba52a13d0645",
   "metadata": {},
   "outputs": [
    {
     "data": {
      "text/plain": [
       "0.9333333333333333"
      ]
     },
     "execution_count": 12,
     "metadata": {},
     "output_type": "execute_result"
    }
   ],
   "source": [
    "# accuracy with rounded predictions\n",
    "accuracy_score(y_test, \n",
    "               np.round(mlpr.predict(X_test)))"
   ]
  },
  {
   "cell_type": "markdown",
   "id": "ccc6d9e7-faa2-4ba5-b667-9b8c04669596",
   "metadata": {},
   "source": [
    "## Compare regression and classification predictions"
   ]
  },
  {
   "cell_type": "code",
   "execution_count": 13,
   "id": "aaad8533-54ab-458e-aa03-d551e6e1d6ff",
   "metadata": {},
   "outputs": [
    {
     "name": "stdout",
     "output_type": "stream",
     "text": [
      "MLP Classifier \t MLP Regressor\n",
      "=========== \t ===========\n",
      "0 <-------------> -0.04382555354438364\n",
      "0 <-------------> -0.01554730878140416\n",
      "0 <-------------> -0.022496530801133216\n",
      "0 <-------------> 0.03970883204541793\n",
      "0 <-------------> -0.028828747910311148\n",
      "0 <-------------> -0.04927772771252062\n",
      "0 <-------------> -0.11298979928046421\n",
      "0 <-------------> -0.11601353531619435\n",
      "0 <-------------> -0.06533079477337167\n",
      "0 <-------------> 0.14763424856532154\n",
      "0 <-------------> -0.0037458553486450774\n",
      "0 <-------------> 0.09208844552050434\n",
      "0 <-------------> 0.06392293795311359\n",
      "0 <-------------> 0.045241542001313764\n",
      "0 <-------------> -0.18898214353519976\n",
      "0 <-------------> 0.04520410066192093\n",
      "0 <-------------> 0.005865344106141909\n",
      "0 <-------------> -0.03589189716672242\n",
      "0 <-------------> 0.11533980436522644\n",
      "0 <-------------> -0.09199841946116369\n",
      "0 <-------------> -0.006661975684164392\n",
      "1 <-------------> 1.2438425882182707\n",
      "1 <-------------> 1.1943872544232839\n",
      "1 <-------------> 1.2837746011580717\n",
      "1 <-------------> 1.3941911124651074\n",
      "1 <-------------> 1.258235613271679\n",
      "1 <-------------> 1.2587247817681597\n",
      "1 <-------------> 1.1018447203138875\n",
      "1 <-------------> 1.2116726898164125\n",
      "1 <-------------> 0.926806802638092\n",
      "1 <-------------> 1.1750540334696669\n",
      "1 <-------------> 1.0543518591493761\n",
      "1 <-------------> 1.09274135649756\n",
      "2 <-------------> 1.4003953576070145\n",
      "1 <-------------> 1.600668846611456\n",
      "1 <-------------> 1.2996008147507738\n",
      "1 <-------------> 1.426234070998653\n",
      "1 <-------------> 1.5345055250685202\n",
      "1 <-------------> 1.304647347668854\n",
      "2 <-------------> 1.63123983372244\n",
      "2 <-------------> 1.2465551604119514\n",
      "1 <-------------> 1.3124727572804724\n",
      "1 <-------------> 1.1928746731263762\n",
      "1 <-------------> 1.036523254356885\n",
      "1 <-------------> 1.163428826241813\n",
      "1 <-------------> 1.1207899452006151\n",
      "2 <-------------> 1.7428932042881191\n",
      "2 <-------------> 1.808825502822035\n",
      "2 <-------------> 1.997177591250319\n",
      "2 <-------------> 2.0174914772420824\n",
      "2 <-------------> 1.9964928727309175\n",
      "2 <-------------> 1.5992540118791438\n",
      "2 <-------------> 1.821623987095926\n",
      "2 <-------------> 1.78254005595877\n",
      "2 <-------------> 1.7396506143746888\n",
      "2 <-------------> 2.0184712219342593\n",
      "2 <-------------> 2.520048323413183\n",
      "2 <-------------> 2.299080578212503\n",
      "2 <-------------> 1.6452267760059918\n",
      "2 <-------------> 1.8097667257303298\n",
      "2 <-------------> 1.8452787485285402\n",
      "2 <-------------> 1.5218427543544324\n",
      "2 <-------------> 2.0629934948301214\n",
      "2 <-------------> 1.8428912834894524\n",
      "2 <-------------> 1.7547323258141276\n",
      "2 <-------------> 2.148518053844891\n",
      "2 <-------------> 1.8406058499350015\n",
      "2 <-------------> 1.4845714978582507\n",
      "2 <-------------> 1.7688326241658183\n",
      "2 <-------------> 2.0003479159790265\n",
      "2 <-------------> 1.9663974584270094\n",
      "2 <-------------> 1.7888995989046155\n",
      "2 <-------------> 1.7148817296697312\n",
      "2 <-------------> 1.7298154932468843\n",
      "2 <-------------> 1.5847459094331333\n"
     ]
    }
   ],
   "source": [
    "print(\"MLP Classifier \\t MLP Regressor\")\n",
    "print(\"=========== \\t ===========\")\n",
    "for i in range(len(y_test)):\n",
    "    print(mlpc.predict(X_test)[i], \"<------------->\", mlpr.predict(X_test)[i])"
   ]
  },
  {
   "cell_type": "code",
   "execution_count": null,
   "id": "6873f847-b85a-4e56-b531-3019e15056e5",
   "metadata": {},
   "outputs": [],
   "source": []
  }
 ],
 "metadata": {
  "kernelspec": {
   "display_name": "Python 3 (ipykernel)",
   "language": "python",
   "name": "python3"
  },
  "language_info": {
   "codemirror_mode": {
    "name": "ipython",
    "version": 3
   },
   "file_extension": ".py",
   "mimetype": "text/x-python",
   "name": "python",
   "nbconvert_exporter": "python",
   "pygments_lexer": "ipython3",
   "version": "3.8.12"
  }
 },
 "nbformat": 4,
 "nbformat_minor": 5
}
