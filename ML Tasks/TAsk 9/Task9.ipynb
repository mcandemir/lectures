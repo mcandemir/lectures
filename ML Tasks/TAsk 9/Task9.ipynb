{
 "cells": [
  {
   "cell_type": "code",
   "execution_count": 1,
   "id": "7fd2af2c-6979-4663-815d-2d60f9f21092",
   "metadata": {
    "tags": []
   },
   "outputs": [
    {
     "name": "stdout",
     "output_type": "stream",
     "text": [
      "None\n"
     ]
    },
    {
     "data": {
      "text/plain": [
       "[PhysicalDevice(name='/physical_device:GPU:0', device_type='GPU')]"
      ]
     },
     "execution_count": 1,
     "metadata": {},
     "output_type": "execute_result"
    }
   ],
   "source": [
    "import os\n",
    "os.environ['TF_CPP_MIN_LOG_LEVEL'] = '3'\n",
    "\n",
    "import tensorflow as tf\n",
    "from tensorflow import keras\n",
    "from tensorflow.keras import layers\n",
    "from tensorflow.keras.datasets import cifar10, mnist, fashion_mnist\n",
    "\n",
    "physical_devices = tf.config.list_physical_devices('GPU')\n",
    "print(tf.config.experimental.set_memory_growth(physical_devices[0], True))\n",
    "physical_devices"
   ]
  },
  {
   "cell_type": "markdown",
   "id": "ceba4ae6-a819-4d71-b9f1-9ed2cb0fa838",
   "metadata": {},
   "source": [
    "## Model"
   ]
  },
  {
   "cell_type": "code",
   "execution_count": 2,
   "id": "aede51b7-f79e-4fb5-bea0-876818a8da1d",
   "metadata": {},
   "outputs": [],
   "source": [
    "def my_model(in_, out_, ch):\n",
    "    i = keras.Input(shape=(in_, in_, ch))\n",
    "    x = layers.Conv2D(32, 3)(i)\n",
    "    x = layers.BatchNormalization()(x)\n",
    "    x = keras.activations.relu(x)\n",
    "    x = layers.MaxPool2D()(x)\n",
    "    x = layers.Conv2D(64, 5, padding='same')(x)\n",
    "    x = layers.BatchNormalization()(x)\n",
    "    x = keras.activations.relu(x)\n",
    "    x = layers.Conv2D(128, 3)(x)\n",
    "    x = layers.BatchNormalization()(x)\n",
    "    x = keras.activations.relu(x)\n",
    "    x = layers.Flatten()(x)\n",
    "    x = layers.Dense(64, activation='relu')(x)\n",
    "    x = layers.Dense(out_)(x)\n",
    "\n",
    "    model = keras.Model(i, x)\n",
    "    return model"
   ]
  },
  {
   "cell_type": "markdown",
   "id": "861ce178-bb3f-401d-b2c7-f03bae6d041b",
   "metadata": {},
   "source": [
    "## Cifar10"
   ]
  },
  {
   "cell_type": "code",
   "execution_count": 3,
   "id": "811672e4-32fb-45e8-b779-1b93a1b60809",
   "metadata": {},
   "outputs": [
    {
     "name": "stdout",
     "output_type": "stream",
     "text": [
      "Model: \"model\"\n",
      "_________________________________________________________________\n",
      "Layer (type)                 Output Shape              Param #   \n",
      "=================================================================\n",
      "input_1 (InputLayer)         [(None, 32, 32, 3)]       0         \n",
      "_________________________________________________________________\n",
      "conv2d (Conv2D)              (None, 30, 30, 32)        896       \n",
      "_________________________________________________________________\n",
      "batch_normalization (BatchNo (None, 30, 30, 32)        128       \n",
      "_________________________________________________________________\n",
      "tf.nn.relu (TFOpLambda)      (None, 30, 30, 32)        0         \n",
      "_________________________________________________________________\n",
      "max_pooling2d (MaxPooling2D) (None, 15, 15, 32)        0         \n",
      "_________________________________________________________________\n",
      "conv2d_1 (Conv2D)            (None, 15, 15, 64)        51264     \n",
      "_________________________________________________________________\n",
      "batch_normalization_1 (Batch (None, 15, 15, 64)        256       \n",
      "_________________________________________________________________\n",
      "tf.nn.relu_1 (TFOpLambda)    (None, 15, 15, 64)        0         \n",
      "_________________________________________________________________\n",
      "conv2d_2 (Conv2D)            (None, 13, 13, 128)       73856     \n",
      "_________________________________________________________________\n",
      "batch_normalization_2 (Batch (None, 13, 13, 128)       512       \n",
      "_________________________________________________________________\n",
      "tf.nn.relu_2 (TFOpLambda)    (None, 13, 13, 128)       0         \n",
      "_________________________________________________________________\n",
      "flatten (Flatten)            (None, 21632)             0         \n",
      "_________________________________________________________________\n",
      "dense (Dense)                (None, 64)                1384512   \n",
      "_________________________________________________________________\n",
      "dense_1 (Dense)              (None, 10)                650       \n",
      "=================================================================\n",
      "Total params: 1,512,074\n",
      "Trainable params: 1,511,626\n",
      "Non-trainable params: 448\n",
      "_________________________________________________________________\n",
      "None\n"
     ]
    }
   ],
   "source": [
    "model = my_model(32, 10, 3)\n",
    "print(model.summary())"
   ]
  },
  {
   "cell_type": "code",
   "execution_count": 4,
   "id": "73e117fb-0197-4ff4-b7e5-b6e2be7286c7",
   "metadata": {},
   "outputs": [],
   "source": [
    "(x_train, y_train), (x_test, y_test) = cifar10.load_data()\n",
    "x_train = x_train.astype('float32') / 255.0\n",
    "x_test = x_test.astype('float32') / 255.0"
   ]
  },
  {
   "cell_type": "code",
   "execution_count": 5,
   "id": "0eb2d06a-99cd-485b-82f7-64120e3976de",
   "metadata": {},
   "outputs": [
    {
     "name": "stdout",
     "output_type": "stream",
     "text": [
      "Epoch 1/10\n",
      "782/782 - 12s - loss: 1.3033 - accuracy: 0.5362\n",
      "Epoch 2/10\n",
      "782/782 - 4s - loss: 0.8994 - accuracy: 0.6836\n",
      "Epoch 3/10\n",
      "782/782 - 4s - loss: 0.7210 - accuracy: 0.7482\n",
      "Epoch 4/10\n",
      "782/782 - 4s - loss: 0.6113 - accuracy: 0.7865\n",
      "Epoch 5/10\n",
      "782/782 - 4s - loss: 0.5126 - accuracy: 0.8227\n",
      "Epoch 6/10\n",
      "782/782 - 4s - loss: 0.4402 - accuracy: 0.8464\n",
      "Epoch 7/10\n",
      "782/782 - 4s - loss: 0.3691 - accuracy: 0.8734\n",
      "Epoch 8/10\n",
      "782/782 - 4s - loss: 0.3078 - accuracy: 0.8938\n",
      "Epoch 9/10\n",
      "782/782 - 4s - loss: 0.2501 - accuracy: 0.9174\n",
      "Epoch 10/10\n",
      "782/782 - 4s - loss: 0.2078 - accuracy: 0.9315\n",
      "157/157 - 0s - loss: 0.9931 - accuracy: 0.7139\n"
     ]
    },
    {
     "data": {
      "text/plain": [
       "[0.9930844902992249, 0.7139000296592712]"
      ]
     },
     "execution_count": 5,
     "metadata": {},
     "output_type": "execute_result"
    }
   ],
   "source": [
    "model.compile(optimizer=keras.optimizers.Adam(lr=3e-4),\n",
    "              loss=keras.losses.SparseCategoricalCrossentropy(from_logits=True),\n",
    "              metrics=['accuracy'])\n",
    "\n",
    "model.fit(x_train, y_train, batch_size=64, epochs=10, verbose=2)\n",
    "model.evaluate(x_test, y_test, batch_size=64, verbose=2)"
   ]
  },
  {
   "cell_type": "markdown",
   "id": "9afdd480-461c-40cf-b3d1-6ee1603c27bf",
   "metadata": {
    "tags": []
   },
   "source": [
    "## MNIST"
   ]
  },
  {
   "cell_type": "code",
   "execution_count": 6,
   "id": "25f91203-6d17-4c11-b1fb-a0e36bc97575",
   "metadata": {},
   "outputs": [],
   "source": [
    "(x_train, y_train), (x_test, y_test) = mnist.load_data()\n",
    "x_train = x_train.astype('float32') / 255.0\n",
    "x_test = x_test.astype('float32') / 255.0"
   ]
  },
  {
   "cell_type": "code",
   "execution_count": 7,
   "id": "1c4f0959-5881-4b31-88b0-d7824cf6eb16",
   "metadata": {},
   "outputs": [
    {
     "name": "stdout",
     "output_type": "stream",
     "text": [
      "Model: \"model_1\"\n",
      "_________________________________________________________________\n",
      "Layer (type)                 Output Shape              Param #   \n",
      "=================================================================\n",
      "input_2 (InputLayer)         [(None, 28, 28, 1)]       0         \n",
      "_________________________________________________________________\n",
      "conv2d_3 (Conv2D)            (None, 26, 26, 32)        320       \n",
      "_________________________________________________________________\n",
      "batch_normalization_3 (Batch (None, 26, 26, 32)        128       \n",
      "_________________________________________________________________\n",
      "tf.nn.relu_3 (TFOpLambda)    (None, 26, 26, 32)        0         \n",
      "_________________________________________________________________\n",
      "max_pooling2d_1 (MaxPooling2 (None, 13, 13, 32)        0         \n",
      "_________________________________________________________________\n",
      "conv2d_4 (Conv2D)            (None, 13, 13, 64)        51264     \n",
      "_________________________________________________________________\n",
      "batch_normalization_4 (Batch (None, 13, 13, 64)        256       \n",
      "_________________________________________________________________\n",
      "tf.nn.relu_4 (TFOpLambda)    (None, 13, 13, 64)        0         \n",
      "_________________________________________________________________\n",
      "conv2d_5 (Conv2D)            (None, 11, 11, 128)       73856     \n",
      "_________________________________________________________________\n",
      "batch_normalization_5 (Batch (None, 11, 11, 128)       512       \n",
      "_________________________________________________________________\n",
      "tf.nn.relu_5 (TFOpLambda)    (None, 11, 11, 128)       0         \n",
      "_________________________________________________________________\n",
      "flatten_1 (Flatten)          (None, 15488)             0         \n",
      "_________________________________________________________________\n",
      "dense_2 (Dense)              (None, 64)                991296    \n",
      "_________________________________________________________________\n",
      "dense_3 (Dense)              (None, 10)                650       \n",
      "=================================================================\n",
      "Total params: 1,118,282\n",
      "Trainable params: 1,117,834\n",
      "Non-trainable params: 448\n",
      "_________________________________________________________________\n",
      "None\n"
     ]
    }
   ],
   "source": [
    "model = my_model(28, 10, 1)\n",
    "print(model.summary())"
   ]
  },
  {
   "cell_type": "code",
   "execution_count": 8,
   "id": "306b9466-e489-4f8f-85c0-7a2bac0b0c26",
   "metadata": {},
   "outputs": [
    {
     "name": "stdout",
     "output_type": "stream",
     "text": [
      "Epoch 1/10\n",
      "938/938 - 12s - loss: 0.1197 - accuracy: 0.9639\n",
      "Epoch 2/10\n",
      "938/938 - 4s - loss: 0.0426 - accuracy: 0.9870\n",
      "Epoch 3/10\n",
      "938/938 - 4s - loss: 0.0332 - accuracy: 0.9899\n",
      "Epoch 4/10\n",
      "938/938 - 4s - loss: 0.0264 - accuracy: 0.9917\n",
      "Epoch 5/10\n",
      "938/938 - 4s - loss: 0.0221 - accuracy: 0.9927\n",
      "Epoch 6/10\n",
      "938/938 - 4s - loss: 0.0167 - accuracy: 0.9948\n",
      "Epoch 7/10\n",
      "938/938 - 4s - loss: 0.0132 - accuracy: 0.9958\n",
      "Epoch 8/10\n",
      "938/938 - 4s - loss: 0.0140 - accuracy: 0.9956\n",
      "Epoch 9/10\n",
      "938/938 - 4s - loss: 0.0100 - accuracy: 0.9968\n",
      "Epoch 10/10\n",
      "938/938 - 4s - loss: 0.0098 - accuracy: 0.9969\n",
      "157/157 - 2s - loss: 0.0363 - accuracy: 0.9903\n"
     ]
    },
    {
     "data": {
      "text/plain": [
       "[0.036341018974781036, 0.9902999997138977]"
      ]
     },
     "execution_count": 8,
     "metadata": {},
     "output_type": "execute_result"
    }
   ],
   "source": [
    "model.compile(optimizer=keras.optimizers.Adam(lr=3e-4),\n",
    "              loss=keras.losses.SparseCategoricalCrossentropy(from_logits=True),\n",
    "              metrics=['accuracy'])\n",
    "\n",
    "model.fit(x_train, y_train, batch_size=64, epochs=10, verbose=2)\n",
    "model.evaluate(x_test, y_test, batch_size=64, verbose=2)"
   ]
  },
  {
   "cell_type": "markdown",
   "id": "c7212bdc-e41c-47d8-ba75-cb1574ff173f",
   "metadata": {
    "tags": []
   },
   "source": [
    "## Fashion MNIST"
   ]
  },
  {
   "cell_type": "code",
   "execution_count": 9,
   "id": "f14ff992-5754-4d10-bdb6-aaf3f283de50",
   "metadata": {},
   "outputs": [
    {
     "name": "stdout",
     "output_type": "stream",
     "text": [
      "Downloading data from https://storage.googleapis.com/tensorflow/tf-keras-datasets/train-labels-idx1-ubyte.gz\n",
      "32768/29515 [=================================] - 0s 1us/step\n",
      "Downloading data from https://storage.googleapis.com/tensorflow/tf-keras-datasets/train-images-idx3-ubyte.gz\n",
      "26427392/26421880 [==============================] - 12s 0us/step\n",
      "Downloading data from https://storage.googleapis.com/tensorflow/tf-keras-datasets/t10k-labels-idx1-ubyte.gz\n",
      "8192/5148 [===============================================] - 0s 1us/step\n",
      "Downloading data from https://storage.googleapis.com/tensorflow/tf-keras-datasets/t10k-images-idx3-ubyte.gz\n",
      "4423680/4422102 [==============================] - 4s 1us/step\n"
     ]
    }
   ],
   "source": [
    "(x_train, y_train), (x_test, y_test) = fashion_mnist.load_data()\n",
    "x_train = x_train.astype('float32') / 255.0\n",
    "x_test = x_test.astype('float32') / 255.0"
   ]
  },
  {
   "cell_type": "code",
   "execution_count": 10,
   "id": "4d43655d-301d-44eb-953c-458ac414b15d",
   "metadata": {},
   "outputs": [
    {
     "name": "stdout",
     "output_type": "stream",
     "text": [
      "Model: \"model_2\"\n",
      "_________________________________________________________________\n",
      "Layer (type)                 Output Shape              Param #   \n",
      "=================================================================\n",
      "input_3 (InputLayer)         [(None, 28, 28, 1)]       0         \n",
      "_________________________________________________________________\n",
      "conv2d_6 (Conv2D)            (None, 26, 26, 32)        320       \n",
      "_________________________________________________________________\n",
      "batch_normalization_6 (Batch (None, 26, 26, 32)        128       \n",
      "_________________________________________________________________\n",
      "tf.nn.relu_6 (TFOpLambda)    (None, 26, 26, 32)        0         \n",
      "_________________________________________________________________\n",
      "max_pooling2d_2 (MaxPooling2 (None, 13, 13, 32)        0         \n",
      "_________________________________________________________________\n",
      "conv2d_7 (Conv2D)            (None, 13, 13, 64)        51264     \n",
      "_________________________________________________________________\n",
      "batch_normalization_7 (Batch (None, 13, 13, 64)        256       \n",
      "_________________________________________________________________\n",
      "tf.nn.relu_7 (TFOpLambda)    (None, 13, 13, 64)        0         \n",
      "_________________________________________________________________\n",
      "conv2d_8 (Conv2D)            (None, 11, 11, 128)       73856     \n",
      "_________________________________________________________________\n",
      "batch_normalization_8 (Batch (None, 11, 11, 128)       512       \n",
      "_________________________________________________________________\n",
      "tf.nn.relu_8 (TFOpLambda)    (None, 11, 11, 128)       0         \n",
      "_________________________________________________________________\n",
      "flatten_2 (Flatten)          (None, 15488)             0         \n",
      "_________________________________________________________________\n",
      "dense_4 (Dense)              (None, 64)                991296    \n",
      "_________________________________________________________________\n",
      "dense_5 (Dense)              (None, 10)                650       \n",
      "=================================================================\n",
      "Total params: 1,118,282\n",
      "Trainable params: 1,117,834\n",
      "Non-trainable params: 448\n",
      "_________________________________________________________________\n",
      "None\n"
     ]
    }
   ],
   "source": [
    "model = my_model(28, 10, 1)\n",
    "print(model.summary())"
   ]
  },
  {
   "cell_type": "code",
   "execution_count": 11,
   "id": "53e353df-2870-4b83-a698-cc81bb7b9aec",
   "metadata": {},
   "outputs": [
    {
     "name": "stdout",
     "output_type": "stream",
     "text": [
      "Epoch 1/10\n",
      "938/938 - 4s - loss: 0.3792 - accuracy: 0.8649\n",
      "Epoch 2/10\n",
      "938/938 - 4s - loss: 0.2451 - accuracy: 0.9111\n",
      "Epoch 3/10\n",
      "938/938 - 4s - loss: 0.1973 - accuracy: 0.9269\n",
      "Epoch 4/10\n",
      "938/938 - 4s - loss: 0.1600 - accuracy: 0.9416\n",
      "Epoch 5/10\n",
      "938/938 - 4s - loss: 0.1348 - accuracy: 0.9509\n",
      "Epoch 6/10\n",
      "938/938 - 4s - loss: 0.1076 - accuracy: 0.9608\n",
      "Epoch 7/10\n",
      "938/938 - 4s - loss: 0.0941 - accuracy: 0.9646\n",
      "Epoch 8/10\n",
      "938/938 - 4s - loss: 0.0726 - accuracy: 0.9741\n",
      "Epoch 9/10\n",
      "938/938 - 4s - loss: 0.0625 - accuracy: 0.9776\n",
      "Epoch 10/10\n",
      "938/938 - 4s - loss: 0.0542 - accuracy: 0.9799\n",
      "157/157 - 1s - loss: 0.3662 - accuracy: 0.9096\n"
     ]
    },
    {
     "data": {
      "text/plain": [
       "[0.36616209149360657, 0.909600019454956]"
      ]
     },
     "execution_count": 11,
     "metadata": {},
     "output_type": "execute_result"
    }
   ],
   "source": [
    "model.compile(optimizer=keras.optimizers.Adam(lr=3e-4),\n",
    "              loss=keras.losses.SparseCategoricalCrossentropy(from_logits=True),\n",
    "              metrics=['accuracy'])\n",
    "\n",
    "model.fit(x_train, y_train, batch_size=64, epochs=10, verbose=2)\n",
    "model.evaluate(x_test, y_test, batch_size=64, verbose=2)"
   ]
  }
 ],
 "metadata": {
  "kernelspec": {
   "display_name": "Python 3 (ipykernel)",
   "language": "python",
   "name": "python3"
  },
  "language_info": {
   "codemirror_mode": {
    "name": "ipython",
    "version": 3
   },
   "file_extension": ".py",
   "mimetype": "text/x-python",
   "name": "python",
   "nbconvert_exporter": "python",
   "pygments_lexer": "ipython3",
   "version": "3.8.12"
  }
 },
 "nbformat": 4,
 "nbformat_minor": 5
}
